{
 "cells": [
  {
   "cell_type": "code",
   "execution_count": 1,
   "id": "initial_id",
   "metadata": {
    "collapsed": true,
    "ExecuteTime": {
     "end_time": "2023-08-10T21:53:15.699752Z",
     "start_time": "2023-08-10T21:53:13.715268Z"
    }
   },
   "outputs": [],
   "source": [
    "import logging\n",
    "import matplotlib.pyplot as plt\n",
    "import numpy as np\n",
    "\n",
    "from concurrent.futures import Future, ThreadPoolExecutor\n",
    "from flox.flock import Flock\n",
    "from flox.flock.node import FlockNodeID, FlockNodeKind\n",
    "from functools import partial"
   ]
  },
  {
   "cell_type": "code",
   "execution_count": 2,
   "outputs": [
    {
     "data": {
      "text/plain": "<Figure size 640x480 with 1 Axes>",
      "image/png": "[encoded data removed]"
     },
     "metadata": {},
     "output_type": "display_data"
    }
   ],
   "source": [
    "flock = Flock.from_yaml(\"examples/flock_files/complex.yaml\")\n",
    "flock.draw()\n",
    "plt.legend(frameon=False)\n",
    "plt.show()"
   ],
   "metadata": {
    "collapsed": false,
    "ExecuteTime": {
     "end_time": "2023-08-10T21:53:16.036528Z",
     "start_time": "2023-08-10T21:53:15.701114Z"
    }
   },
   "id": "3e037caa3829b654"
  },
  {
   "cell_type": "markdown",
   "source": [
    "# Hierarchical Aggregation\n",
    "Below, we provide a simple surrogate implementation of *Federated Learning* (via *Federated Averaging*). Rather than averaging model weights learned via deep learning, each worker device in the above `Flock` generates a random number of integers as their private, local data. The aggregators are then responsible for performing a *weighted average* across the all their children (note: this may also include other aggregators). \n",
    "\n",
    "The below implementation is heavily based on Yadu's implementation of the hierarchical execution framework provided [here](https://github.com/yadudoc/FLoX-experimental/blob/main/test.ipynb)."
   ],
   "metadata": {
    "collapsed": false
   },
   "id": "fa98224a7e5df53e"
  },
  {
   "cell_type": "code",
   "execution_count": 19,
   "outputs": [],
   "source": [
    "POOL = ThreadPoolExecutor(max_workers=1)\n",
    "\n",
    "\n",
    "def local_fit_fn(idx) -> dict[str, float]:\n",
    "    num_data = np.random.randint(10, 100)\n",
    "    data = np.random.randint(1, 1000, size=num_data)\n",
    "    avg = np.mean(data)\n",
    "    print(f\"[WORKER={idx}]  local_fit()  ::  {num_data=}  ::  {avg=:0.3f}\")\n",
    "    return {\n",
    "        \"num_data\": num_data,\n",
    "        \"avg\": avg\n",
    "    }\n",
    "\n",
    "\n",
    "def aggr_fn(content: list[dict[str, float]]) -> dict[str, float]:\n",
    "    weights, averages = [], []\n",
    "    for d in content:\n",
    "        weights.append(d[\"num_data\"])\n",
    "        averages.append(d[\"avg\"])\n",
    "    avg = np.average(averages, weights=weights)\n",
    "    return {\n",
    "        \"num_data\": sum(weights),\n",
    "        \"avg\": avg\n",
    "    }\n",
    "\n",
    "\n",
    "def set_parent_future(parent_future, child_future):\n",
    "    assert child_future.done()\n",
    "    if child_future.exception():\n",
    "        parent_future.set_exception(child_future.exception())\n",
    "    else:\n",
    "        result = child_future.result()\n",
    "        try:\n",
    "            parent_future.set_result(result)\n",
    "        except Exception:\n",
    "            logging.exception(\"FAILED\")\n",
    "        return result\n",
    "\n",
    "\n",
    "def aggr_callback(children_futures, future_of_self, idx_of_self, child_fut_to_resolve):\n",
    "    if all([f.done() for f in children_futures]):\n",
    "        child_results = [f.result() for f in children_futures]\n",
    "\n",
    "        weights = []\n",
    "        averages = []\n",
    "        for res in child_results:\n",
    "            weights.append(res[\"num_data\"])\n",
    "            averages.append(res[\"avg\"])\n",
    "\n",
    "        future = POOL.submit(aggr_fn, child_results)\n",
    "        custom_callback = partial(set_parent_future, future_of_self)\n",
    "        result = future.add_done_callback(custom_callback)\n",
    "        if result is not None:\n",
    "            num_data = result[\"num_data\"]\n",
    "            avg = result[\"avg\"]\n",
    "            print(f\"[AGGR={idx_of_self}]  aggr_fn()  ::  {num_data=}  ::  {avg=:0.3f}!\")\n",
    "\n",
    "\n",
    "def traverse(flock: Flock, idx: FlockNodeID):\n",
    "    if flock.topo.nodes[idx][\"kind\"] is FlockNodeKind.WORKER:\n",
    "        future = POOL.submit(local_fit_fn, idx)\n",
    "        return future\n",
    "    else:\n",
    "        children_futures = [traverse(flock, child) for child in flock.topo.successors(idx)]\n",
    "        # print(f\"[AGGR={idx}] children_futures -> {children_futures}\")\n",
    "        aggr_future = Future()\n",
    "        callback = partial(aggr_callback, children_futures, aggr_future, idx)\n",
    "        for child_fut in children_futures:\n",
    "            child_fut.add_done_callback(callback)\n",
    "\n",
    "        # print(aggr_future)\n",
    "        return aggr_future\n",
    "\n",
    "\n",
    "def sync_fed_fit(flock: Flock):\n",
    "    root = flock.leader\n",
    "    return traverse(flock, idx=root.idx)"
   ],
   "metadata": {
    "collapsed": false,
    "ExecuteTime": {
     "end_time": "2023-08-10T21:57:33.231300Z",
     "start_time": "2023-08-10T21:57:33.217658Z"
    }
   },
   "id": "93dc1eaa1220da38"
  },
  {
   "cell_type": "markdown",
   "source": [
    "## Does it work?\n",
    "We can run the above code by simply running `sync_fed_fit(flock)` which then returns the `Future` for the leader node in the `Flock` (i.e., call `result()` to get the final output). As we can see, it does work (this can be confirmed by summing the values of `num_data` across all the workers and seeing that the sum matches what the leader reports).\n",
    "\n",
    "This execution corresponds with a single (global) aggregation round."
   ],
   "metadata": {
    "collapsed": false
   },
   "id": "ac393fdee4615d8c"
  },
  {
   "cell_type": "code",
   "execution_count": 22,
   "outputs": [
    {
     "name": "stdout",
     "output_type": "stream",
     "text": [
      "[WORKER=8]  local_fit()  ::  num_data=76  ::  avg=453.947\n",
      "[WORKER=9]  local_fit()  ::  num_data=90  ::  avg=504.933\n",
      "[WORKER=4]  local_fit()  ::  num_data=86  ::  avg=508.407\n",
      "[WORKER=5]  local_fit()  ::  num_data=33  ::  avg=497.606\n",
      "[WORKER=6]  local_fit()  ::  num_data=13  ::  avg=599.462\n",
      "[WORKER=7]  local_fit()  ::  num_data=76  ::  avg=515.237\n",
      "\n",
      "Leader node's final result: {'num_data': 374, 'avg': 500.10427807486633}\n"
     ]
    }
   ],
   "source": [
    "np.random.seed(123)\n",
    "fut = sync_fed_fit(flock)\n",
    "print(f\"\\nLeader node's final result: {fut.result()}\")"
   ],
   "metadata": {
    "collapsed": false,
    "ExecuteTime": {
     "end_time": "2023-08-10T22:04:16.872976Z",
     "start_time": "2023-08-10T22:04:16.844985Z"
    }
   },
   "id": "668c78336f211a7b"
  },
  {
   "cell_type": "markdown",
   "source": [
    "## Requirements\n",
    "\n",
    "There are some requirements that need to be put in place in order for this execution model to work. \n",
    "- What is returned from `local_fit_fn()` and `aggr_fn()` must have the same structure.\n",
    "    - This is because the `aggr_fn()` may be doing aggregation with the results from calls to `local_fit_fn()` and other calls to `aggr_fn()`. Keeping the structure of results the same for both functions will make this execution work.\n",
    "- Aggregation rounds on one sub-tree of the Flock cannot started until the other subtrees have finished. In other words, the FL process cannot move onto the next global round until the entire tree has executed.\n",
    "\n",
    " "
   ],
   "metadata": {
    "collapsed": false
   },
   "id": "a739489ab73f5a0"
  },
  {
   "cell_type": "code",
   "execution_count": null,
   "outputs": [],
   "source": [],
   "metadata": {
    "collapsed": false
   },
   "id": "bc0f0148e99147e9"
  }
 ],
 "metadata": {
  "kernelspec": {
   "display_name": "Python 3",
   "language": "python",
   "name": "python3"
  },
  "language_info": {
   "codemirror_mode": {
    "name": "ipython",
    "version": 2
   },
   "file_extension": ".py",
   "mimetype": "text/x-python",
   "name": "python",
   "nbconvert_exporter": "python",
   "pygments_lexer": "ipython2",
   "version": "2.7.6"
  }
 },
 "nbformat": 4,
 "nbformat_minor": 5
}
