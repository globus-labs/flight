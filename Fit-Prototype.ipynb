{
 "cells": [
  {
   "cell_type": "code",
   "execution_count": 1,
   "id": "initial_id",
   "metadata": {
    "collapsed": true,
    "ExecuteTime": {
     "end_time": "2023-08-16T05:03:10.935655Z",
     "start_time": "2023-08-16T05:03:08.648060Z"
    }
   },
   "outputs": [],
   "source": [
    "import logging\n",
    "import matplotlib.pyplot as plt\n",
    "import numpy as np\n",
    "import os\n",
    "import seaborn as sns\n",
    "\n",
    "import flox.learn.prototype as flox_learn\n",
    "\n",
    "from concurrent.futures import Future, ThreadPoolExecutor\n",
    "from functools import partial\n",
    "from torch import nn\n",
    "from torchvision.datasets import FashionMNIST\n",
    "from torchvision.transforms import ToTensor\n",
    "\n",
    "from flox.flock import Flock\n",
    "from flox.flock.node import FlockNodeID, FlockNodeKind"
   ]
  },
  {
   "cell_type": "code",
   "execution_count": 2,
   "outputs": [
    {
     "data": {
      "text/plain": "<Figure size 640x480 with 1 Axes>",
      "image/png": "[encoded data removed]"
     },
     "metadata": {},
     "output_type": "display_data"
    }
   ],
   "source": [
    "flock = Flock.from_yaml(\"examples/flock_files/complex.yaml\")\n",
    "flock.draw()\n",
    "plt.legend(frameon=False)\n",
    "plt.show()"
   ],
   "metadata": {
    "collapsed": false,
    "ExecuteTime": {
     "end_time": "2023-08-16T05:03:11.284593Z",
     "start_time": "2023-08-16T05:03:10.941764Z"
    }
   },
   "id": "3e037caa3829b654"
  },
  {
   "cell_type": "markdown",
   "source": [
    "# Hierarchical Aggregation\n",
    "Below, we provide a simple surrogate implementation of *Federated Learning* (via *Federated Averaging*). Rather than averaging model weights learned via deep learning, each worker device in the above `Flock` generates a random number of integers as their private, local data. The aggregators are then responsible for performing a *weighted average* across the all their children (note: this may also include other aggregators). \n",
    "\n",
    "The below implementation is heavily based on Yadu's implementation of the hierarchical execution framework provided [here](https://github.com/yadudoc/FLoX-experimental/blob/main/test.ipynb)."
   ],
   "metadata": {
    "collapsed": false
   },
   "id": "fa98224a7e5df53e"
  },
  {
   "cell_type": "code",
   "execution_count": 3,
   "outputs": [],
   "source": [
    "POOL = ThreadPoolExecutor(max_workers=1)\n",
    "\n",
    "\n",
    "def local_fit_fn(idx) -> dict[str, float]:\n",
    "    num_data = np.random.randint(10, 100)\n",
    "    data = np.random.randint(1, 1000, size=num_data)\n",
    "    avg = np.mean(data)\n",
    "    print(f\"[WORKER={idx}]  local_fit()  ::  {num_data=}  ::  {avg=:0.3f}\")\n",
    "    return {\n",
    "        \"num_data\": num_data,\n",
    "        \"avg\": avg\n",
    "    }\n",
    "\n",
    "\n",
    "def aggr_fn(content: list[dict[str, float]]) -> dict[str, float]:\n",
    "    weights, averages = [], []\n",
    "    for d in content:\n",
    "        weights.append(d[\"num_data\"])\n",
    "        averages.append(d[\"avg\"])\n",
    "    avg = np.average(averages, weights=weights)\n",
    "    return {\n",
    "        \"num_data\": sum(weights),\n",
    "        \"avg\": avg\n",
    "    }\n",
    "\n",
    "\n",
    "def set_parent_future(parent_future, child_future):\n",
    "    assert child_future.done()\n",
    "    if child_future.exception():\n",
    "        parent_future.set_exception(child_future.exception())\n",
    "    else:\n",
    "        result = child_future.result()\n",
    "        try:\n",
    "            parent_future.set_result(result)\n",
    "        except Exception:\n",
    "            logging.exception(\"FAILED\")\n",
    "        return result\n",
    "\n",
    "\n",
    "def aggr_callback(children_futures, future_of_self, idx_of_self, child_fut_to_resolve):\n",
    "    if all([f.done() for f in children_futures]):\n",
    "        child_results = [f.result() for f in children_futures]\n",
    "\n",
    "        weights = []\n",
    "        averages = []\n",
    "        for res in child_results:\n",
    "            weights.append(res[\"num_data\"])\n",
    "            averages.append(res[\"avg\"])\n",
    "\n",
    "        future = POOL.submit(aggr_fn, child_results)\n",
    "        custom_callback = partial(set_parent_future, future_of_self)\n",
    "        result = future.add_done_callback(custom_callback)\n",
    "        if result is not None:\n",
    "            num_data = result[\"num_data\"]\n",
    "            avg = result[\"avg\"]\n",
    "            print(f\"[AGGR={idx_of_self}]  aggr_fn()  ::  {num_data=}  ::  {avg=:0.3f}!\")\n",
    "\n",
    "\n",
    "def traverse(flock: Flock, idx: FlockNodeID):\n",
    "    if flock.topo.nodes[idx][\"kind\"] is FlockNodeKind.WORKER:\n",
    "        future = POOL.submit(local_fit_fn, idx)\n",
    "        return future\n",
    "    else:\n",
    "        children_futures = [traverse(flock, child) for child in flock.topo.successors(idx)]\n",
    "        # print(f\"[AGGR={idx}] children_futures -> {children_futures}\")\n",
    "        aggr_future = Future()\n",
    "        callback = partial(aggr_callback, children_futures, aggr_future, idx)\n",
    "        for child_fut in children_futures:\n",
    "            child_fut.add_done_callback(callback)\n",
    "\n",
    "        # print(aggr_future)\n",
    "        return aggr_future\n",
    "\n",
    "\n",
    "def sync_fed_fit(flock: Flock):\n",
    "    root = flock.leader\n",
    "    return traverse(flock, idx=root.idx)"
   ],
   "metadata": {
    "collapsed": false,
    "ExecuteTime": {
     "end_time": "2023-08-16T05:03:11.284792Z",
     "start_time": "2023-08-16T05:03:11.282562Z"
    }
   },
   "id": "93dc1eaa1220da38"
  },
  {
   "cell_type": "markdown",
   "source": [
    "## Does it work?\n",
    "We can run the above code by simply running `sync_fed_fit(flock)` which then returns the `Future` for the leader node in the `Flock` (i.e., call `result()` to get the final output). As we can see, it does work (this can be confirmed by summing the values of `num_data` across all the workers and seeing that the sum matches what the leader reports).\n",
    "\n",
    "This execution corresponds with a single (global) aggregation round."
   ],
   "metadata": {
    "collapsed": false
   },
   "id": "ac393fdee4615d8c"
  },
  {
   "cell_type": "code",
   "execution_count": 4,
   "outputs": [
    {
     "name": "stdout",
     "output_type": "stream",
     "text": [
      "[WORKER=8]  local_fit()  ::  num_data=76  ::  avg=453.947\n",
      "[WORKER=9]  local_fit()  ::  num_data=90  ::  avg=504.933\n",
      "[WORKER=4]  local_fit()  ::  num_data=86  ::  avg=508.407\n",
      "[WORKER=5]  local_fit()  ::  num_data=33  ::  avg=497.606\n",
      "[WORKER=6]  local_fit()  ::  num_data=13  ::  avg=599.462\n",
      "[WORKER=7]  local_fit()  ::  num_data=76  ::  avg=515.237\n",
      "\n",
      "Leader node's final result: {'num_data': 374, 'avg': 500.10427807486633}\n"
     ]
    }
   ],
   "source": [
    "np.random.seed(123)\n",
    "fut = sync_fed_fit(flock)\n",
    "print(f\"\\nLeader node's final result: {fut.result()}\")"
   ],
   "metadata": {
    "collapsed": false,
    "ExecuteTime": {
     "end_time": "2023-08-16T05:03:11.295604Z",
     "start_time": "2023-08-16T05:03:11.286064Z"
    }
   },
   "id": "668c78336f211a7b"
  },
  {
   "cell_type": "markdown",
   "source": [
    "## Requirements\n",
    "\n",
    "There are some requirements that need to be put in place in order for this execution model to work. \n",
    "- What is returned from `local_fit_fn()` and `aggr_fn()` must have the same structure.\n",
    "    - This is because the `aggr_fn()` may be doing aggregation with the results from calls to `local_fit_fn()` and other calls to `aggr_fn()`. Keeping the structure of results the same for both functions will make this execution work.\n",
    "- Aggregation rounds on one sub-tree of the Flock cannot started until the other subtrees have finished. In other words, the FL process cannot move onto the next global round until the entire tree has executed.\n",
    "\n",
    " "
   ],
   "metadata": {
    "collapsed": false
   },
   "id": "a739489ab73f5a0"
  },
  {
   "cell_type": "code",
   "execution_count": 5,
   "outputs": [
    {
     "data": {
      "text/plain": "{4: <torch.utils.data.dataset.Subset at 0x7f9f597300a0>,\n 5: <torch.utils.data.dataset.Subset at 0x7f9f597330a0>,\n 6: <torch.utils.data.dataset.Subset at 0x7f9f5976cb50>,\n 7: <torch.utils.data.dataset.Subset at 0x7f9f5976ccd0>,\n 8: <torch.utils.data.dataset.Subset at 0x7f9f5976cd30>,\n 9: <torch.utils.data.dataset.Subset at 0x7f9f5976cd90>}"
     },
     "execution_count": 5,
     "metadata": {},
     "output_type": "execute_result"
    }
   ],
   "source": [
    "from flox.utils.data.federate import randomly_federate_dataset\n",
    "\n",
    "mnist = FashionMNIST(\n",
    "    root=os.environ[\"TORCH_DATASETS\"],\n",
    "    download=False,\n",
    "    train=True,\n",
    "    transform=ToTensor(),\n",
    ")\n",
    "fed_data = randomly_federate_dataset(\n",
    "    flock,\n",
    "    mnist,\n",
    "    shuffle=True,\n",
    "    random_state=None,\n",
    ")\n",
    "fed_data"
   ],
   "metadata": {
    "collapsed": false,
    "ExecuteTime": {
     "end_time": "2023-08-16T05:03:11.350202Z",
     "start_time": "2023-08-16T05:03:11.293384Z"
    }
   },
   "id": "bc0f0148e99147e9"
  },
  {
   "cell_type": "code",
   "execution_count": 6,
   "outputs": [],
   "source": [
    "class MyModule(nn.Module):\n",
    "    def __init__(self):\n",
    "        super().__init__()\n",
    "        self.flatten = nn.Flatten()\n",
    "        self.linear_stack = nn.Sequential(\n",
    "            nn.Linear(28 * 28, 512),\n",
    "            nn.ReLU(),\n",
    "            nn.Linear(512, 512),\n",
    "            nn.ReLU(),\n",
    "            nn.Linear(512, 10),\n",
    "        )\n",
    "\n",
    "    def forward(self, x):\n",
    "        x = self.flatten(x)\n",
    "        logits = self.linear_stack(x)\n",
    "        return logits"
   ],
   "metadata": {
    "collapsed": false,
    "ExecuteTime": {
     "end_time": "2023-08-16T05:03:11.350717Z",
     "start_time": "2023-08-16T05:03:11.338487Z"
    }
   },
   "id": "2f32defea8dcb866"
  },
  {
   "cell_type": "code",
   "execution_count": 7,
   "outputs": [
    {
     "name": "stdout",
     "output_type": "stream",
     "text": [
      "<Future at 0x7f9f59733190 state=pending>\n",
      "Intel MKL WARNING: Support of Intel(R) Streaming SIMD Extensions 4.2 (Intel(R) SSE4.2) enabled only processors has been deprecated. Intel oneAPI Math Kernel Library 2025.0 will require Intel(R) Advanced Vector Extensions (Intel(R) AVX) instructions.\n"
     ]
    },
    {
     "ename": "ValueError",
     "evalue": "DataFrame constructor not properly called!",
     "output_type": "error",
     "traceback": [
      "\u001B[0;31m---------------------------------------------------------------------------\u001B[0m",
      "\u001B[0;31mValueError\u001B[0m                                Traceback (most recent call last)",
      "Cell \u001B[0;32mIn[7], line 1\u001B[0m\n\u001B[0;32m----> 1\u001B[0m train_history \u001B[38;5;241m=\u001B[39m \u001B[43mflox_learn\u001B[49m\u001B[38;5;241;43m.\u001B[39;49m\u001B[43mfederated_fit\u001B[49m\u001B[43m(\u001B[49m\u001B[43mflock\u001B[49m\u001B[43m,\u001B[49m\u001B[43m \u001B[49m\u001B[43mMyModule\u001B[49m\u001B[43m,\u001B[49m\u001B[43m \u001B[49m\u001B[43mfed_data\u001B[49m\u001B[43m,\u001B[49m\u001B[43m \u001B[49m\u001B[38;5;241;43m5\u001B[39;49m\u001B[43m)\u001B[49m\n\u001B[1;32m      2\u001B[0m train_history\u001B[38;5;241m.\u001B[39mhead()\n",
      "File \u001B[0;32m~/Development/GitHub/FLoX/flox/learn/prototype.py:29\u001B[0m, in \u001B[0;36mfederated_fit\u001B[0;34m(flock, module_cls, datasets, num_global_rounds, kind, where)\u001B[0m\n\u001B[1;32m     20\u001B[0m \u001B[38;5;28;01mdef\u001B[39;00m \u001B[38;5;21mfederated_fit\u001B[39m(\n\u001B[1;32m     21\u001B[0m     flock: Flock,\n\u001B[1;32m     22\u001B[0m     module_cls: \u001B[38;5;28mtype\u001B[39m[nn\u001B[38;5;241m.\u001B[39mModule],\n\u001B[0;32m   (...)\u001B[0m\n\u001B[1;32m     26\u001B[0m     where: \u001B[38;5;28mstr\u001B[39m \u001B[38;5;241m=\u001B[39m \u001B[38;5;124m\"\u001B[39m\u001B[38;5;124mlocal\u001B[39m\u001B[38;5;124m\"\u001B[39m,\n\u001B[1;32m     27\u001B[0m ) \u001B[38;5;241m-\u001B[39m\u001B[38;5;241m>\u001B[39m pd\u001B[38;5;241m.\u001B[39mDataFrame:\n\u001B[1;32m     28\u001B[0m     \u001B[38;5;28;01mif\u001B[39;00m kind \u001B[38;5;241m==\u001B[39m \u001B[38;5;124m\"\u001B[39m\u001B[38;5;124msync\u001B[39m\u001B[38;5;124m\"\u001B[39m:\n\u001B[0;32m---> 29\u001B[0m         \u001B[38;5;28;01mreturn\u001B[39;00m \u001B[43m_sync_federated_fit\u001B[49m\u001B[43m(\u001B[49m\u001B[43mflock\u001B[49m\u001B[43m,\u001B[49m\u001B[43m \u001B[49m\u001B[43mmodule_cls\u001B[49m\u001B[43m,\u001B[49m\u001B[43m \u001B[49m\u001B[43mdatasets\u001B[49m\u001B[43m,\u001B[49m\u001B[43m \u001B[49m\u001B[43mnum_global_rounds\u001B[49m\u001B[43m)\u001B[49m\n\u001B[1;32m     30\u001B[0m     \u001B[38;5;28;01melif\u001B[39;00m kind \u001B[38;5;241m==\u001B[39m \u001B[38;5;124m\"\u001B[39m\u001B[38;5;124masync\u001B[39m\u001B[38;5;124m\"\u001B[39m:\n\u001B[1;32m     31\u001B[0m         \u001B[38;5;28;01mraise\u001B[39;00m \u001B[38;5;167;01mNotImplementedError\u001B[39;00m()\n",
      "File \u001B[0;32m~/Development/GitHub/FLoX/flox/learn/prototype.py:72\u001B[0m, in \u001B[0;36m_sync_federated_fit\u001B[0;34m(flock, module_cls, datasets, num_global_rounds)\u001B[0m\n\u001B[1;32m     62\u001B[0m     round_results \u001B[38;5;241m=\u001B[39m _sync_traverse(\n\u001B[1;32m     63\u001B[0m         executor\u001B[38;5;241m=\u001B[39mexecutor,\n\u001B[1;32m     64\u001B[0m         flock\u001B[38;5;241m=\u001B[39mflock,\n\u001B[0;32m   (...)\u001B[0m\n\u001B[1;32m     69\u001B[0m         parent\u001B[38;5;241m=\u001B[39m\u001B[38;5;28;01mNone\u001B[39;00m,\n\u001B[1;32m     70\u001B[0m     )\n\u001B[1;32m     71\u001B[0m     \u001B[38;5;28mprint\u001B[39m(round_results)\n\u001B[0;32m---> 72\u001B[0m     round_df \u001B[38;5;241m=\u001B[39m \u001B[43mpd\u001B[49m\u001B[38;5;241;43m.\u001B[39;49m\u001B[43mDataFrame\u001B[49m\u001B[38;5;241;43m.\u001B[39;49m\u001B[43mfrom_dict\u001B[49m\u001B[43m(\u001B[49m\u001B[43mround_results\u001B[49m\u001B[43m)\u001B[49m\n\u001B[1;32m     73\u001B[0m     dataframes\u001B[38;5;241m.\u001B[39mappend(round_df)\n\u001B[1;32m     75\u001B[0m results \u001B[38;5;241m=\u001B[39m pd\u001B[38;5;241m.\u001B[39mconcat(dataframes)\n",
      "File \u001B[0;32m/opt/anaconda3/envs/FLoX/lib/python3.10/site-packages/pandas/core/frame.py:1760\u001B[0m, in \u001B[0;36mDataFrame.from_dict\u001B[0;34m(cls, data, orient, dtype, columns)\u001B[0m\n\u001B[1;32m   1754\u001B[0m     \u001B[38;5;28;01mraise\u001B[39;00m \u001B[38;5;167;01mValueError\u001B[39;00m(\n\u001B[1;32m   1755\u001B[0m         \u001B[38;5;124mf\u001B[39m\u001B[38;5;124m\"\u001B[39m\u001B[38;5;124mExpected \u001B[39m\u001B[38;5;124m'\u001B[39m\u001B[38;5;124mindex\u001B[39m\u001B[38;5;124m'\u001B[39m\u001B[38;5;124m, \u001B[39m\u001B[38;5;124m'\u001B[39m\u001B[38;5;124mcolumns\u001B[39m\u001B[38;5;124m'\u001B[39m\u001B[38;5;124m or \u001B[39m\u001B[38;5;124m'\u001B[39m\u001B[38;5;124mtight\u001B[39m\u001B[38;5;124m'\u001B[39m\u001B[38;5;124m for orient parameter. \u001B[39m\u001B[38;5;124m\"\u001B[39m\n\u001B[1;32m   1756\u001B[0m         \u001B[38;5;124mf\u001B[39m\u001B[38;5;124m\"\u001B[39m\u001B[38;5;124mGot \u001B[39m\u001B[38;5;124m'\u001B[39m\u001B[38;5;132;01m{\u001B[39;00morient\u001B[38;5;132;01m}\u001B[39;00m\u001B[38;5;124m'\u001B[39m\u001B[38;5;124m instead\u001B[39m\u001B[38;5;124m\"\u001B[39m\n\u001B[1;32m   1757\u001B[0m     )\n\u001B[1;32m   1759\u001B[0m \u001B[38;5;28;01mif\u001B[39;00m orient \u001B[38;5;241m!=\u001B[39m \u001B[38;5;124m\"\u001B[39m\u001B[38;5;124mtight\u001B[39m\u001B[38;5;124m\"\u001B[39m:\n\u001B[0;32m-> 1760\u001B[0m     \u001B[38;5;28;01mreturn\u001B[39;00m \u001B[38;5;28;43mcls\u001B[39;49m\u001B[43m(\u001B[49m\u001B[43mdata\u001B[49m\u001B[43m,\u001B[49m\u001B[43m \u001B[49m\u001B[43mindex\u001B[49m\u001B[38;5;241;43m=\u001B[39;49m\u001B[43mindex\u001B[49m\u001B[43m,\u001B[49m\u001B[43m \u001B[49m\u001B[43mcolumns\u001B[49m\u001B[38;5;241;43m=\u001B[39;49m\u001B[43mcolumns\u001B[49m\u001B[43m,\u001B[49m\u001B[43m \u001B[49m\u001B[43mdtype\u001B[49m\u001B[38;5;241;43m=\u001B[39;49m\u001B[43mdtype\u001B[49m\u001B[43m)\u001B[49m\n\u001B[1;32m   1761\u001B[0m \u001B[38;5;28;01melse\u001B[39;00m:\n\u001B[1;32m   1762\u001B[0m     realdata \u001B[38;5;241m=\u001B[39m data[\u001B[38;5;124m\"\u001B[39m\u001B[38;5;124mdata\u001B[39m\u001B[38;5;124m\"\u001B[39m]\n",
      "File \u001B[0;32m/opt/anaconda3/envs/FLoX/lib/python3.10/site-packages/pandas/core/frame.py:817\u001B[0m, in \u001B[0;36mDataFrame.__init__\u001B[0;34m(self, data, index, columns, dtype, copy)\u001B[0m\n\u001B[1;32m    814\u001B[0m \u001B[38;5;66;03m# For data is scalar\u001B[39;00m\n\u001B[1;32m    815\u001B[0m \u001B[38;5;28;01melse\u001B[39;00m:\n\u001B[1;32m    816\u001B[0m     \u001B[38;5;28;01mif\u001B[39;00m index \u001B[38;5;129;01mis\u001B[39;00m \u001B[38;5;28;01mNone\u001B[39;00m \u001B[38;5;129;01mor\u001B[39;00m columns \u001B[38;5;129;01mis\u001B[39;00m \u001B[38;5;28;01mNone\u001B[39;00m:\n\u001B[0;32m--> 817\u001B[0m         \u001B[38;5;28;01mraise\u001B[39;00m \u001B[38;5;167;01mValueError\u001B[39;00m(\u001B[38;5;124m\"\u001B[39m\u001B[38;5;124mDataFrame constructor not properly called!\u001B[39m\u001B[38;5;124m\"\u001B[39m)\n\u001B[1;32m    819\u001B[0m     index \u001B[38;5;241m=\u001B[39m ensure_index(index)\n\u001B[1;32m    820\u001B[0m     columns \u001B[38;5;241m=\u001B[39m ensure_index(columns)\n",
      "\u001B[0;31mValueError\u001B[0m: DataFrame constructor not properly called!"
     ]
    }
   ],
   "source": [
    "train_history = flox_learn.federated_fit(flock, MyModule, fed_data, 5)\n",
    "train_history.head()\n"
   ],
   "metadata": {
    "collapsed": false,
    "ExecuteTime": {
     "end_time": "2023-08-16T05:03:12.719343Z",
     "start_time": "2023-08-16T05:03:11.344152Z"
    }
   },
   "id": "fe1f4dfacb9f31f9"
  },
  {
   "cell_type": "code",
   "execution_count": null,
   "outputs": [],
   "source": [
    "sns.lineplot(train_history, x=\"round\", y=\"train/loss\")\n",
    "plt.show()"
   ],
   "metadata": {
    "collapsed": false,
    "ExecuteTime": {
     "start_time": "2023-08-16T05:03:12.713668Z"
    }
   },
   "id": "6beb940b52f7f506"
  },
  {
   "cell_type": "code",
   "execution_count": null,
   "outputs": [],
   "source": [],
   "metadata": {
    "collapsed": false,
    "ExecuteTime": {
     "start_time": "2023-08-16T05:03:12.714877Z"
    }
   },
   "id": "bdb8cd02425dca28"
  }
 ],
 "metadata": {
  "kernelspec": {
   "display_name": "Python 3",
   "language": "python",
   "name": "python3"
  },
  "language_info": {
   "codemirror_mode": {
    "name": "ipython",
    "version": 2
   },
   "file_extension": ".py",
   "mimetype": "text/x-python",
   "name": "python",
   "nbconvert_exporter": "python",
   "pygments_lexer": "ipython2",
   "version": "2.7.6"
  }
 },
 "nbformat": 4,
 "nbformat_minor": 5
}
