{
 "cells": [
  {
   "cell_type": "code",
   "execution_count": 1,
   "metadata": {
    "collapsed": true
   },
   "outputs": [
    {
     "name": "stderr",
     "output_type": "stream",
     "text": [
      "/opt/anaconda3/envs/FLoX/lib/python3.10/site-packages/torchvision/io/image.py:13: UserWarning: Failed to load image Python extension: 'dlopen(/opt/anaconda3/envs/FLoX/lib/python3.10/site-packages/torchvision/image.so, 0x0006): Symbol not found: __ZN3c106detail19maybe_wrap_dim_slowIxEET_S2_S2_b\n",
      "  Referenced from: <6A7076EE-85BD-37A7-BC35-1D4867F2B3D3> /opt/anaconda3/envs/FLoX/lib/python3.10/site-packages/torchvision/image.so\n",
      "  Expected in:     <F2FE5CF8-5B5B-3FAD-ADF8-C77D90F49FC9> /opt/anaconda3/envs/FLoX/lib/python3.10/site-packages/torch/lib/libc10.dylib'If you don't plan on using image functionality from `torchvision.io`, you can ignore this warning. Otherwise, there might be something wrong with your environment. Did you have `libjpeg` or `libpng` installed before building `torchvision` from source?\n",
      "  warn(\n"
     ]
    }
   ],
   "source": [
    "import flox\n",
    "import lightning as L\n",
    "\n",
    "from os import environ\n",
    "from torch.utils.data import DataLoader\n",
    "from torchvision.transforms import ToTensor\n",
    "from torchvision.datasets import MNIST\n",
    "\n",
    "from flox.aggregator import FedAvg\n",
    "from flox.worker import SimpleWorkerLogic\n",
    "from modules import BasicMnistModule, MnistModule"
   ]
  },
  {
   "cell_type": "code",
   "execution_count": 2,
   "outputs": [],
   "source": [
    "class MnistAggrLogic(FedAvg):\n",
    "    def on_module_evaluate(self, module: L.LightningModule):\n",
    "        root = environ.get(\"PATH_DATASETS\", \".\")\n",
    "        test_data = MNIST(root, download=False, train=True, transform=ToTensor())\n",
    "        test_dataloader = DataLoader(test_data)\n",
    "        trainer = L.Trainer()\n",
    "        return trainer.test(module, test_dataloader)\n",
    "\n",
    "\n",
    "class MnistWorkerLogic(SimpleWorkerLogic):\n",
    "    def __init__(self, idx, indices):\n",
    "        super().__init__(idx)\n",
    "        self.name = \"mnist\"\n",
    "        self.indices = indices\n",
    "\n",
    "    def on_data_fetch(self):\n",
    "        from torch.utils.data import Subset\n",
    "        from torchvision.datasets import MNIST\n",
    "        from torchvision.transforms import ToTensor\n",
    "        from os import environ\n",
    "\n",
    "        root = environ.get(\"PATH_DATASETS\", \".\")\n",
    "        data = MNIST(root, download=True, train=True, transform=ToTensor())\n",
    "        data = Subset(data, indices=self.indices)\n",
    "        return data\n",
    "\n",
    "    def __len__(self) -> int:\n",
    "        return len(self.indices)"
   ],
   "metadata": {
    "collapsed": false
   }
  },
  {
   "cell_type": "code",
   "execution_count": 6,
   "outputs": [
    {
     "name": "stderr",
     "output_type": "stream",
     "text": [
      "GPU available: False, used: False\n",
      "TPU available: False, using: 0 TPU cores\n",
      "IPU available: False, using: 0 IPUs\n",
      "HPU available: False, using: 0 HPUs\n",
      "\n",
      "  | Name          | Type               | Params\n",
      "-----------------------------------------------------\n",
      "0 | conv1         | Conv2d             | 320   \n",
      "1 | conv2         | Conv2d             | 18.5 K\n",
      "2 | dropout1      | Dropout            | 0     \n",
      "3 | dropout2      | Dropout            | 0     \n",
      "4 | fc1           | Linear             | 1.2 M \n",
      "5 | fc2           | Linear             | 1.3 K \n",
      "6 | test_accuracy | MulticlassAccuracy | 0     \n",
      "-----------------------------------------------------\n",
      "1.2 M     Trainable params\n",
      "0         Non-trainable params\n",
      "1.2 M     Total params\n",
      "4.800     Total estimated model params size (MB)\n"
     ]
    },
    {
     "name": "stdout",
     "output_type": "stream",
     "text": [
      ">> Starting global round (2/20).\n",
      "Job submitted to worker node Worker(4).\n"
     ]
    },
    {
     "name": "stderr",
     "output_type": "stream",
     "text": [
      "/opt/anaconda3/envs/FLoX/lib/python3.10/site-packages/lightning/pytorch/trainer/connectors/data_connector.py:432: PossibleUserWarning: The dataloader, train_dataloader, does not have many workers which may be a bottleneck. Consider increasing the value of the `num_workers` argument` (try 10 which is the number of cpus on this machine) in the `DataLoader` init to improve performance.\n",
      "  rank_zero_warn(\n",
      "`Trainer.fit` stopped: `max_epochs=3` reached.\n",
      "GPU available: False, used: False\n",
      "TPU available: False, using: 0 TPU cores\n",
      "IPU available: False, using: 0 IPUs\n",
      "HPU available: False, using: 0 HPUs\n",
      "\n",
      "  | Name          | Type               | Params\n",
      "-----------------------------------------------------\n",
      "0 | conv1         | Conv2d             | 320   \n",
      "1 | conv2         | Conv2d             | 18.5 K\n",
      "2 | dropout1      | Dropout            | 0     \n",
      "3 | dropout2      | Dropout            | 0     \n",
      "4 | fc1           | Linear             | 1.2 M \n",
      "5 | fc2           | Linear             | 1.3 K \n",
      "6 | test_accuracy | MulticlassAccuracy | 0     \n",
      "-----------------------------------------------------\n",
      "1.2 M     Trainable params\n",
      "0         Non-trainable params\n",
      "1.2 M     Total params\n",
      "4.800     Total estimated model params size (MB)\n"
     ]
    },
    {
     "name": "stdout",
     "output_type": "stream",
     "text": [
      ">> Starting global round (3/20).\n",
      "Job submitted to worker node Worker(1).\n"
     ]
    },
    {
     "name": "stderr",
     "output_type": "stream",
     "text": [
      "`Trainer.fit` stopped: `max_epochs=3` reached.\n",
      "GPU available: False, used: False\n",
      "TPU available: False, using: 0 TPU cores\n",
      "IPU available: False, using: 0 IPUs\n",
      "HPU available: False, using: 0 HPUs\n",
      "\n",
      "  | Name          | Type               | Params\n",
      "-----------------------------------------------------\n",
      "0 | conv1         | Conv2d             | 320   \n",
      "1 | conv2         | Conv2d             | 18.5 K\n",
      "2 | dropout1      | Dropout            | 0     \n",
      "3 | dropout2      | Dropout            | 0     \n",
      "4 | fc1           | Linear             | 1.2 M \n",
      "5 | fc2           | Linear             | 1.3 K \n",
      "6 | test_accuracy | MulticlassAccuracy | 0     \n",
      "-----------------------------------------------------\n",
      "1.2 M     Trainable params\n",
      "0         Non-trainable params\n",
      "1.2 M     Total params\n",
      "4.800     Total estimated model params size (MB)\n"
     ]
    },
    {
     "name": "stdout",
     "output_type": "stream",
     "text": [
      ">> Starting global round (4/20).\n",
      "Job submitted to worker node Worker(4).\n"
     ]
    },
    {
     "name": "stderr",
     "output_type": "stream",
     "text": [
      "`Trainer.fit` stopped: `max_epochs=3` reached.\n",
      "GPU available: False, used: False\n",
      "TPU available: False, using: 0 TPU cores\n",
      "IPU available: False, using: 0 IPUs\n",
      "HPU available: False, using: 0 HPUs\n",
      "\n",
      "  | Name          | Type               | Params\n",
      "-----------------------------------------------------\n",
      "0 | conv1         | Conv2d             | 320   \n",
      "1 | conv2         | Conv2d             | 18.5 K\n",
      "2 | dropout1      | Dropout            | 0     \n",
      "3 | dropout2      | Dropout            | 0     \n",
      "4 | fc1           | Linear             | 1.2 M \n",
      "5 | fc2           | Linear             | 1.3 K \n",
      "6 | test_accuracy | MulticlassAccuracy | 0     \n",
      "-----------------------------------------------------\n",
      "1.2 M     Trainable params\n",
      "0         Non-trainable params\n",
      "1.2 M     Total params\n",
      "4.800     Total estimated model params size (MB)\n"
     ]
    },
    {
     "name": "stdout",
     "output_type": "stream",
     "text": [
      ">> Starting global round (5/20).\n",
      "Job submitted to worker node Worker(3).\n"
     ]
    },
    {
     "name": "stderr",
     "output_type": "stream",
     "text": [
      "`Trainer.fit` stopped: `max_epochs=3` reached.\n",
      "GPU available: False, used: False\n",
      "TPU available: False, using: 0 TPU cores\n",
      "IPU available: False, using: 0 IPUs\n",
      "HPU available: False, using: 0 HPUs\n",
      "\n",
      "  | Name          | Type               | Params\n",
      "-----------------------------------------------------\n",
      "0 | conv1         | Conv2d             | 320   \n",
      "1 | conv2         | Conv2d             | 18.5 K\n",
      "2 | dropout1      | Dropout            | 0     \n",
      "3 | dropout2      | Dropout            | 0     \n",
      "4 | fc1           | Linear             | 1.2 M \n",
      "5 | fc2           | Linear             | 1.3 K \n",
      "6 | test_accuracy | MulticlassAccuracy | 0     \n",
      "-----------------------------------------------------\n",
      "1.2 M     Trainable params\n",
      "0         Non-trainable params\n",
      "1.2 M     Total params\n",
      "4.800     Total estimated model params size (MB)\n"
     ]
    },
    {
     "name": "stdout",
     "output_type": "stream",
     "text": [
      ">> Starting global round (6/20).\n",
      "Job submitted to worker node Worker(0).\n"
     ]
    },
    {
     "name": "stderr",
     "output_type": "stream",
     "text": [
      "`Trainer.fit` stopped: `max_epochs=3` reached.\n",
      "GPU available: False, used: False\n",
      "TPU available: False, using: 0 TPU cores\n",
      "IPU available: False, using: 0 IPUs\n",
      "HPU available: False, using: 0 HPUs\n",
      "\n",
      "  | Name          | Type               | Params\n",
      "-----------------------------------------------------\n",
      "0 | conv1         | Conv2d             | 320   \n",
      "1 | conv2         | Conv2d             | 18.5 K\n",
      "2 | dropout1      | Dropout            | 0     \n",
      "3 | dropout2      | Dropout            | 0     \n",
      "4 | fc1           | Linear             | 1.2 M \n",
      "5 | fc2           | Linear             | 1.3 K \n",
      "6 | test_accuracy | MulticlassAccuracy | 0     \n",
      "-----------------------------------------------------\n",
      "1.2 M     Trainable params\n",
      "0         Non-trainable params\n",
      "1.2 M     Total params\n",
      "4.800     Total estimated model params size (MB)\n"
     ]
    },
    {
     "name": "stdout",
     "output_type": "stream",
     "text": [
      ">> Starting global round (7/20).\n",
      "Job submitted to worker node Worker(0).\n"
     ]
    },
    {
     "name": "stderr",
     "output_type": "stream",
     "text": [
      "`Trainer.fit` stopped: `max_epochs=3` reached.\n",
      "GPU available: False, used: False\n",
      "TPU available: False, using: 0 TPU cores\n",
      "IPU available: False, using: 0 IPUs\n",
      "HPU available: False, using: 0 HPUs\n",
      "\n",
      "  | Name          | Type               | Params\n",
      "-----------------------------------------------------\n",
      "0 | conv1         | Conv2d             | 320   \n",
      "1 | conv2         | Conv2d             | 18.5 K\n",
      "2 | dropout1      | Dropout            | 0     \n",
      "3 | dropout2      | Dropout            | 0     \n",
      "4 | fc1           | Linear             | 1.2 M \n",
      "5 | fc2           | Linear             | 1.3 K \n",
      "6 | test_accuracy | MulticlassAccuracy | 0     \n",
      "-----------------------------------------------------\n",
      "1.2 M     Trainable params\n",
      "0         Non-trainable params\n",
      "1.2 M     Total params\n",
      "4.800     Total estimated model params size (MB)\n"
     ]
    },
    {
     "name": "stdout",
     "output_type": "stream",
     "text": [
      ">> Starting global round (8/20).\n",
      "Job submitted to worker node Worker(0).\n"
     ]
    },
    {
     "name": "stderr",
     "output_type": "stream",
     "text": [
      "`Trainer.fit` stopped: `max_epochs=3` reached.\n",
      "GPU available: False, used: False\n",
      "TPU available: False, using: 0 TPU cores\n",
      "IPU available: False, using: 0 IPUs\n",
      "HPU available: False, using: 0 HPUs\n",
      "\n",
      "  | Name          | Type               | Params\n",
      "-----------------------------------------------------\n",
      "0 | conv1         | Conv2d             | 320   \n",
      "1 | conv2         | Conv2d             | 18.5 K\n",
      "2 | dropout1      | Dropout            | 0     \n",
      "3 | dropout2      | Dropout            | 0     \n",
      "4 | fc1           | Linear             | 1.2 M \n",
      "5 | fc2           | Linear             | 1.3 K \n",
      "6 | test_accuracy | MulticlassAccuracy | 0     \n",
      "-----------------------------------------------------\n",
      "1.2 M     Trainable params\n",
      "0         Non-trainable params\n",
      "1.2 M     Total params\n",
      "4.800     Total estimated model params size (MB)\n"
     ]
    },
    {
     "name": "stdout",
     "output_type": "stream",
     "text": [
      ">> Starting global round (9/20).\n",
      "Job submitted to worker node Worker(3).\n"
     ]
    },
    {
     "name": "stderr",
     "output_type": "stream",
     "text": [
      "`Trainer.fit` stopped: `max_epochs=3` reached.\n",
      "GPU available: False, used: False\n",
      "TPU available: False, using: 0 TPU cores\n",
      "IPU available: False, using: 0 IPUs\n",
      "HPU available: False, using: 0 HPUs\n",
      "\n",
      "  | Name          | Type               | Params\n",
      "-----------------------------------------------------\n",
      "0 | conv1         | Conv2d             | 320   \n",
      "1 | conv2         | Conv2d             | 18.5 K\n",
      "2 | dropout1      | Dropout            | 0     \n",
      "3 | dropout2      | Dropout            | 0     \n",
      "4 | fc1           | Linear             | 1.2 M \n",
      "5 | fc2           | Linear             | 1.3 K \n",
      "6 | test_accuracy | MulticlassAccuracy | 0     \n",
      "-----------------------------------------------------\n",
      "1.2 M     Trainable params\n",
      "0         Non-trainable params\n",
      "1.2 M     Total params\n",
      "4.800     Total estimated model params size (MB)\n"
     ]
    },
    {
     "name": "stdout",
     "output_type": "stream",
     "text": [
      ">> Starting global round (10/20).\n",
      "Job submitted to worker node Worker(2).\n"
     ]
    },
    {
     "name": "stderr",
     "output_type": "stream",
     "text": [
      "`Trainer.fit` stopped: `max_epochs=3` reached.\n",
      "GPU available: False, used: False\n",
      "TPU available: False, using: 0 TPU cores\n",
      "IPU available: False, using: 0 IPUs\n",
      "HPU available: False, using: 0 HPUs\n",
      "\n",
      "  | Name          | Type               | Params\n",
      "-----------------------------------------------------\n",
      "0 | conv1         | Conv2d             | 320   \n",
      "1 | conv2         | Conv2d             | 18.5 K\n",
      "2 | dropout1      | Dropout            | 0     \n",
      "3 | dropout2      | Dropout            | 0     \n",
      "4 | fc1           | Linear             | 1.2 M \n",
      "5 | fc2           | Linear             | 1.3 K \n",
      "6 | test_accuracy | MulticlassAccuracy | 0     \n",
      "-----------------------------------------------------\n",
      "1.2 M     Trainable params\n",
      "0         Non-trainable params\n",
      "1.2 M     Total params\n",
      "4.800     Total estimated model params size (MB)\n"
     ]
    },
    {
     "name": "stdout",
     "output_type": "stream",
     "text": [
      ">> Starting global round (11/20).\n",
      "Job submitted to worker node Worker(1).\n"
     ]
    },
    {
     "name": "stderr",
     "output_type": "stream",
     "text": [
      "`Trainer.fit` stopped: `max_epochs=3` reached.\n",
      "GPU available: False, used: False\n",
      "TPU available: False, using: 0 TPU cores\n",
      "IPU available: False, using: 0 IPUs\n",
      "HPU available: False, using: 0 HPUs\n",
      "\n",
      "  | Name          | Type               | Params\n",
      "-----------------------------------------------------\n",
      "0 | conv1         | Conv2d             | 320   \n",
      "1 | conv2         | Conv2d             | 18.5 K\n",
      "2 | dropout1      | Dropout            | 0     \n",
      "3 | dropout2      | Dropout            | 0     \n",
      "4 | fc1           | Linear             | 1.2 M \n",
      "5 | fc2           | Linear             | 1.3 K \n",
      "6 | test_accuracy | MulticlassAccuracy | 0     \n",
      "-----------------------------------------------------\n",
      "1.2 M     Trainable params\n",
      "0         Non-trainable params\n",
      "1.2 M     Total params\n",
      "4.800     Total estimated model params size (MB)\n"
     ]
    },
    {
     "name": "stdout",
     "output_type": "stream",
     "text": [
      ">> Starting global round (12/20).\n",
      "Job submitted to worker node Worker(4).\n"
     ]
    },
    {
     "name": "stderr",
     "output_type": "stream",
     "text": [
      "`Trainer.fit` stopped: `max_epochs=3` reached.\n",
      "GPU available: False, used: False\n",
      "TPU available: False, using: 0 TPU cores\n",
      "IPU available: False, using: 0 IPUs\n",
      "HPU available: False, using: 0 HPUs\n",
      "\n",
      "  | Name          | Type               | Params\n",
      "-----------------------------------------------------\n",
      "0 | conv1         | Conv2d             | 320   \n",
      "1 | conv2         | Conv2d             | 18.5 K\n",
      "2 | dropout1      | Dropout            | 0     \n",
      "3 | dropout2      | Dropout            | 0     \n",
      "4 | fc1           | Linear             | 1.2 M \n",
      "5 | fc2           | Linear             | 1.3 K \n",
      "6 | test_accuracy | MulticlassAccuracy | 0     \n",
      "-----------------------------------------------------\n",
      "1.2 M     Trainable params\n",
      "0         Non-trainable params\n",
      "1.2 M     Total params\n",
      "4.800     Total estimated model params size (MB)\n"
     ]
    },
    {
     "name": "stdout",
     "output_type": "stream",
     "text": [
      ">> Starting global round (13/20).\n",
      "Job submitted to worker node Worker(0).\n"
     ]
    },
    {
     "name": "stderr",
     "output_type": "stream",
     "text": [
      "`Trainer.fit` stopped: `max_epochs=3` reached.\n",
      "GPU available: False, used: False\n",
      "TPU available: False, using: 0 TPU cores\n",
      "IPU available: False, using: 0 IPUs\n",
      "HPU available: False, using: 0 HPUs\n",
      "\n",
      "  | Name          | Type               | Params\n",
      "-----------------------------------------------------\n",
      "0 | conv1         | Conv2d             | 320   \n",
      "1 | conv2         | Conv2d             | 18.5 K\n",
      "2 | dropout1      | Dropout            | 0     \n",
      "3 | dropout2      | Dropout            | 0     \n",
      "4 | fc1           | Linear             | 1.2 M \n",
      "5 | fc2           | Linear             | 1.3 K \n",
      "6 | test_accuracy | MulticlassAccuracy | 0     \n",
      "-----------------------------------------------------\n",
      "1.2 M     Trainable params\n",
      "0         Non-trainable params\n",
      "1.2 M     Total params\n",
      "4.800     Total estimated model params size (MB)\n"
     ]
    },
    {
     "name": "stdout",
     "output_type": "stream",
     "text": [
      ">> Starting global round (14/20).\n",
      "Job submitted to worker node Worker(1).\n"
     ]
    },
    {
     "name": "stderr",
     "output_type": "stream",
     "text": [
      "`Trainer.fit` stopped: `max_epochs=3` reached.\n",
      "GPU available: False, used: False\n",
      "TPU available: False, using: 0 TPU cores\n",
      "IPU available: False, using: 0 IPUs\n",
      "HPU available: False, using: 0 HPUs\n",
      "\n",
      "  | Name          | Type               | Params\n",
      "-----------------------------------------------------\n",
      "0 | conv1         | Conv2d             | 320   \n",
      "1 | conv2         | Conv2d             | 18.5 K\n",
      "2 | dropout1      | Dropout            | 0     \n",
      "3 | dropout2      | Dropout            | 0     \n",
      "4 | fc1           | Linear             | 1.2 M \n",
      "5 | fc2           | Linear             | 1.3 K \n",
      "6 | test_accuracy | MulticlassAccuracy | 0     \n",
      "-----------------------------------------------------\n",
      "1.2 M     Trainable params\n",
      "0         Non-trainable params\n",
      "1.2 M     Total params\n",
      "4.800     Total estimated model params size (MB)\n"
     ]
    },
    {
     "name": "stdout",
     "output_type": "stream",
     "text": [
      ">> Starting global round (15/20).\n",
      "Job submitted to worker node Worker(4).\n"
     ]
    },
    {
     "name": "stderr",
     "output_type": "stream",
     "text": [
      "`Trainer.fit` stopped: `max_epochs=3` reached.\n",
      "GPU available: False, used: False\n",
      "TPU available: False, using: 0 TPU cores\n",
      "IPU available: False, using: 0 IPUs\n",
      "HPU available: False, using: 0 HPUs\n",
      "\n",
      "  | Name          | Type               | Params\n",
      "-----------------------------------------------------\n",
      "0 | conv1         | Conv2d             | 320   \n",
      "1 | conv2         | Conv2d             | 18.5 K\n",
      "2 | dropout1      | Dropout            | 0     \n",
      "3 | dropout2      | Dropout            | 0     \n",
      "4 | fc1           | Linear             | 1.2 M \n",
      "5 | fc2           | Linear             | 1.3 K \n",
      "6 | test_accuracy | MulticlassAccuracy | 0     \n",
      "-----------------------------------------------------\n",
      "1.2 M     Trainable params\n",
      "0         Non-trainable params\n",
      "1.2 M     Total params\n",
      "4.800     Total estimated model params size (MB)\n"
     ]
    },
    {
     "name": "stdout",
     "output_type": "stream",
     "text": [
      ">> Starting global round (16/20).\n",
      "Job submitted to worker node Worker(3).\n"
     ]
    },
    {
     "name": "stderr",
     "output_type": "stream",
     "text": [
      "`Trainer.fit` stopped: `max_epochs=3` reached.\n",
      "GPU available: False, used: False\n",
      "TPU available: False, using: 0 TPU cores\n",
      "IPU available: False, using: 0 IPUs\n",
      "HPU available: False, using: 0 HPUs\n",
      "\n",
      "  | Name          | Type               | Params\n",
      "-----------------------------------------------------\n",
      "0 | conv1         | Conv2d             | 320   \n",
      "1 | conv2         | Conv2d             | 18.5 K\n",
      "2 | dropout1      | Dropout            | 0     \n",
      "3 | dropout2      | Dropout            | 0     \n",
      "4 | fc1           | Linear             | 1.2 M \n",
      "5 | fc2           | Linear             | 1.3 K \n",
      "6 | test_accuracy | MulticlassAccuracy | 0     \n",
      "-----------------------------------------------------\n",
      "1.2 M     Trainable params\n",
      "0         Non-trainable params\n",
      "1.2 M     Total params\n",
      "4.800     Total estimated model params size (MB)\n"
     ]
    },
    {
     "name": "stdout",
     "output_type": "stream",
     "text": [
      ">> Starting global round (17/20).\n",
      "Job submitted to worker node Worker(1).\n"
     ]
    },
    {
     "name": "stderr",
     "output_type": "stream",
     "text": [
      "`Trainer.fit` stopped: `max_epochs=3` reached.\n",
      "GPU available: False, used: False\n",
      "TPU available: False, using: 0 TPU cores\n",
      "IPU available: False, using: 0 IPUs\n",
      "HPU available: False, using: 0 HPUs\n",
      "\n",
      "  | Name          | Type               | Params\n",
      "-----------------------------------------------------\n",
      "0 | conv1         | Conv2d             | 320   \n",
      "1 | conv2         | Conv2d             | 18.5 K\n",
      "2 | dropout1      | Dropout            | 0     \n",
      "3 | dropout2      | Dropout            | 0     \n",
      "4 | fc1           | Linear             | 1.2 M \n",
      "5 | fc2           | Linear             | 1.3 K \n",
      "6 | test_accuracy | MulticlassAccuracy | 0     \n",
      "-----------------------------------------------------\n",
      "1.2 M     Trainable params\n",
      "0         Non-trainable params\n",
      "1.2 M     Total params\n",
      "4.800     Total estimated model params size (MB)\n"
     ]
    },
    {
     "name": "stdout",
     "output_type": "stream",
     "text": [
      ">> Starting global round (18/20).\n",
      "Job submitted to worker node Worker(4).\n"
     ]
    },
    {
     "name": "stderr",
     "output_type": "stream",
     "text": [
      "`Trainer.fit` stopped: `max_epochs=3` reached.\n",
      "GPU available: False, used: False\n",
      "TPU available: False, using: 0 TPU cores\n",
      "IPU available: False, using: 0 IPUs\n",
      "HPU available: False, using: 0 HPUs\n",
      "\n",
      "  | Name          | Type               | Params\n",
      "-----------------------------------------------------\n",
      "0 | conv1         | Conv2d             | 320   \n",
      "1 | conv2         | Conv2d             | 18.5 K\n",
      "2 | dropout1      | Dropout            | 0     \n",
      "3 | dropout2      | Dropout            | 0     \n",
      "4 | fc1           | Linear             | 1.2 M \n",
      "5 | fc2           | Linear             | 1.3 K \n",
      "6 | test_accuracy | MulticlassAccuracy | 0     \n",
      "-----------------------------------------------------\n",
      "1.2 M     Trainable params\n",
      "0         Non-trainable params\n",
      "1.2 M     Total params\n",
      "4.800     Total estimated model params size (MB)\n"
     ]
    },
    {
     "name": "stdout",
     "output_type": "stream",
     "text": [
      ">> Starting global round (19/20).\n",
      "Job submitted to worker node Worker(4).\n"
     ]
    },
    {
     "name": "stderr",
     "output_type": "stream",
     "text": [
      "`Trainer.fit` stopped: `max_epochs=3` reached.\n",
      "GPU available: False, used: False\n",
      "TPU available: False, using: 0 TPU cores\n",
      "IPU available: False, using: 0 IPUs\n",
      "HPU available: False, using: 0 HPUs\n",
      "\n",
      "  | Name          | Type               | Params\n",
      "-----------------------------------------------------\n",
      "0 | conv1         | Conv2d             | 320   \n",
      "1 | conv2         | Conv2d             | 18.5 K\n",
      "2 | dropout1      | Dropout            | 0     \n",
      "3 | dropout2      | Dropout            | 0     \n",
      "4 | fc1           | Linear             | 1.2 M \n",
      "5 | fc2           | Linear             | 1.3 K \n",
      "6 | test_accuracy | MulticlassAccuracy | 0     \n",
      "-----------------------------------------------------\n",
      "1.2 M     Trainable params\n",
      "0         Non-trainable params\n",
      "1.2 M     Total params\n",
      "4.800     Total estimated model params size (MB)\n"
     ]
    },
    {
     "name": "stdout",
     "output_type": "stream",
     "text": [
      ">> Starting global round (20/20).\n",
      "Job submitted to worker node Worker(1).\n"
     ]
    },
    {
     "name": "stderr",
     "output_type": "stream",
     "text": [
      "`Trainer.fit` stopped: `max_epochs=3` reached.\n",
      "GPU available: False, used: False\n",
      "TPU available: False, using: 0 TPU cores\n",
      "IPU available: False, using: 0 IPUs\n",
      "HPU available: False, using: 0 HPUs\n",
      "\n",
      "  | Name          | Type               | Params\n",
      "-----------------------------------------------------\n",
      "0 | conv1         | Conv2d             | 320   \n",
      "1 | conv2         | Conv2d             | 18.5 K\n",
      "2 | dropout1      | Dropout            | 0     \n",
      "3 | dropout2      | Dropout            | 0     \n",
      "4 | fc1           | Linear             | 1.2 M \n",
      "5 | fc2           | Linear             | 1.3 K \n",
      "6 | test_accuracy | MulticlassAccuracy | 0     \n",
      "-----------------------------------------------------\n",
      "1.2 M     Trainable params\n",
      "0         Non-trainable params\n",
      "1.2 M     Total params\n",
      "4.800     Total estimated model params size (MB)\n"
     ]
    },
    {
     "name": "stdout",
     "output_type": "stream",
     "text": [
      ">> Starting global round (21/20).\n",
      "Job submitted to worker node Worker(4).\n"
     ]
    },
    {
     "name": "stderr",
     "output_type": "stream",
     "text": [
      "`Trainer.fit` stopped: `max_epochs=3` reached.\n"
     ]
    },
    {
     "data": {
      "text/plain": "{'module': MnistModule(\n   (conv1): Conv2d(1, 32, kernel_size=(3, 3), stride=(1, 1))\n   (conv2): Conv2d(32, 64, kernel_size=(3, 3), stride=(1, 1))\n   (dropout1): Dropout(p=0.25, inplace=False)\n   (dropout2): Dropout(p=0.5, inplace=False)\n   (fc1): Linear(in_features=9216, out_features=128, bias=True)\n   (fc2): Linear(in_features=128, out_features=10, bias=True)\n   (test_accuracy): MulticlassAccuracy()\n ),\n 'train_results':                          time  round  worker_id  train_loss\n 0  2023-07-07 10:30:05.389288      1          4    2.329936\n 1  2023-07-07 10:30:05.918628      2          1    2.273715\n 2  2023-07-07 10:30:06.490057      3          4    2.256032\n 3  2023-07-07 10:30:07.149766      4          3    2.061612\n 4  2023-07-07 10:30:07.582138      5          0    2.161033\n 5  2023-07-07 10:30:08.012616      6          0    2.319209\n 6  2023-07-07 10:30:08.485583      7          0    2.269272\n 7  2023-07-07 10:30:09.129910      8          3    1.938438\n 8  2023-07-07 10:30:10.064280      9          2    1.793205\n 9  2023-07-07 10:30:10.557395     10          1    2.320122\n 10 2023-07-07 10:30:11.111199     11          4    2.320392\n 11 2023-07-07 10:30:11.553947     12          0    2.268023\n 12 2023-07-07 10:30:12.036119     13          1    2.255322\n 13 2023-07-07 10:30:12.563873     14          4    2.346699\n 14 2023-07-07 10:30:13.219858     15          3    2.304963\n 15 2023-07-07 10:30:13.689772     16          1    2.300002\n 16 2023-07-07 10:30:14.210871     17          4    2.282297\n 17 2023-07-07 10:30:14.743065     18          4    2.290016\n 18 2023-07-07 10:30:15.207509     19          1    2.299407\n 19 2023-07-07 10:30:15.735962     20          4    2.317179,\n 'test_results': Empty DataFrame\n Columns: []\n Index: []}"
     },
     "execution_count": 6,
     "metadata": {},
     "output_type": "execute_result"
    }
   ],
   "source": [
    "workers = flox.create_workers(5, MnistWorkerLogic)\n",
    "results = flox.federated_fit(\n",
    "    global_module=MnistModule(),\n",
    "    aggr=MnistAggrLogic(participation_frac=0.25),\n",
    "    workers=workers,\n",
    "    global_rounds=20,\n",
    "    mode=\"local\"  # TODO: Currently doesn't do anything.\n",
    ")\n",
    "results"
   ],
   "metadata": {
    "collapsed": false
   }
  },
  {
   "cell_type": "code",
   "execution_count": 7,
   "outputs": [
    {
     "name": "stdout",
     "output_type": "stream",
     "text": [
      "                         time  round  worker_id  train_loss\n",
      "0  2023-07-07 10:30:05.389288      1          4    2.329936\n",
      "1  2023-07-07 10:30:05.918628      2          1    2.273715\n",
      "2  2023-07-07 10:30:06.490057      3          4    2.256032\n",
      "3  2023-07-07 10:30:07.149766      4          3    2.061612\n",
      "4  2023-07-07 10:30:07.582138      5          0    2.161033\n",
      "5  2023-07-07 10:30:08.012616      6          0    2.319209\n",
      "6  2023-07-07 10:30:08.485583      7          0    2.269272\n",
      "7  2023-07-07 10:30:09.129910      8          3    1.938438\n",
      "8  2023-07-07 10:30:10.064280      9          2    1.793205\n",
      "9  2023-07-07 10:30:10.557395     10          1    2.320122\n",
      "10 2023-07-07 10:30:11.111199     11          4    2.320392\n",
      "11 2023-07-07 10:30:11.553947     12          0    2.268023\n",
      "12 2023-07-07 10:30:12.036119     13          1    2.255322\n",
      "13 2023-07-07 10:30:12.563873     14          4    2.346699\n",
      "14 2023-07-07 10:30:13.219858     15          3    2.304963\n",
      "15 2023-07-07 10:30:13.689772     16          1    2.300002\n",
      "16 2023-07-07 10:30:14.210871     17          4    2.282297\n",
      "17 2023-07-07 10:30:14.743065     18          4    2.290016\n",
      "18 2023-07-07 10:30:15.207509     19          1    2.299407\n",
      "19 2023-07-07 10:30:15.735962     20          4    2.317179\n"
     ]
    }
   ],
   "source": [
    "train_df = results[\"train_results\"]\n",
    "print(train_df)"
   ],
   "metadata": {
    "collapsed": false
   }
  },
  {
   "cell_type": "code",
   "execution_count": 8,
   "outputs": [
    {
     "data": {
      "text/plain": "<Axes: xlabel='round'>"
     },
     "execution_count": 8,
     "metadata": {},
     "output_type": "execute_result"
    },
    {
     "data": {
      "text/plain": "<Figure size 640x480 with 1 Axes>",
      "image/png": "[encoded data removed]"
     },
     "metadata": {},
     "output_type": "display_data"
    }
   ],
   "source": [
    "train_df.plot(kind=\"line\", x=\"round\", y=\"train_loss\")"
   ],
   "metadata": {
    "collapsed": false
   }
  },
  {
   "cell_type": "code",
   "execution_count": null,
   "outputs": [],
   "source": [],
   "metadata": {
    "collapsed": false
   }
  }
 ],
 "metadata": {
  "kernelspec": {
   "display_name": "Python 3",
   "language": "python",
   "name": "python3"
  },
  "language_info": {
   "codemirror_mode": {
    "name": "ipython",
    "version": 2
   },
   "file_extension": ".py",
   "mimetype": "text/x-python",
   "name": "python",
   "nbconvert_exporter": "python",
   "pygments_lexer": "ipython2",
   "version": "2.7.6"
  }
 },
 "nbformat": 4,
 "nbformat_minor": 0
}
