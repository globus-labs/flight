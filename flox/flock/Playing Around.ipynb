{
 "cells": [
  {
   "cell_type": "code",
   "execution_count": 1,
   "id": "initial_id",
   "metadata": {
    "collapsed": true,
    "ExecuteTime": {
     "end_time": "2023-08-09T18:48:48.656762Z",
     "start_time": "2023-08-09T18:48:48.269005Z"
    }
   },
   "outputs": [],
   "source": [
    "import matplotlib.pyplot as plt\n",
    "import networkx as nx\n",
    "import yaml\n",
    "\n",
    "from node import *\n",
    "from pathlib import Path"
   ]
  },
  {
   "cell_type": "code",
   "execution_count": 2,
   "outputs": [],
   "source": [
    "ex_yaml = \"sample_flock.yaml\""
   ],
   "metadata": {
    "collapsed": false,
    "ExecuteTime": {
     "end_time": "2023-08-09T18:48:48.668681Z",
     "start_time": "2023-08-09T18:48:48.657041Z"
    }
   },
   "id": "880c7dea2b251a94"
  },
  {
   "cell_type": "code",
   "execution_count": 3,
   "outputs": [
    {
     "data": {
      "text/plain": "{0: {'kind': 'leader',\n  'globus_compute_endpoint': None,\n  'proxystore_endpoint': None,\n  'children': [1, 2]},\n 1: {'kind': 'aggregator',\n  'globus_compute_endpoint': None,\n  'proxystore_endpoint': None,\n  'children': [3, 4, 5]},\n 2: {'kind': 'aggregator',\n  'globus_compute_endpoint': None,\n  'proxystore_endpoint': None,\n  'children': [6, 7, 8, 9]},\n 3: {'kind': 'worker',\n  'globus_compute_endpoint': None,\n  'proxystore_endpoint': None,\n  'children': []},\n 4: {'kind': 'worker',\n  'globus_compute_endpoint': None,\n  'proxystore_endpoint': None,\n  'children': []},\n 5: {'kind': 'worker',\n  'globus_compute_endpoint': None,\n  'proxystore_endpoint': None,\n  'children': []},\n 6: {'kind': 'worker',\n  'globus_compute_endpoint': None,\n  'proxystore_endpoint': None,\n  'children': []},\n 7: {'kind': 'worker',\n  'globus_compute_endpoint': None,\n  'proxystore_endpoint': None,\n  'children': []},\n 8: {'kind': 'worker',\n  'globus_compute_endpoint': None,\n  'proxystore_endpoint': None,\n  'children': []},\n 9: {'kind': 'worker',\n  'globus_compute_endpoint': None,\n  'proxystore_endpoint': None,\n  'children': []}}"
     },
     "execution_count": 3,
     "metadata": {},
     "output_type": "execute_result"
    }
   ],
   "source": [
    "raw_topo = yaml.safe_load(open(ex_yaml, \"r\"))\n",
    "raw_topo"
   ],
   "metadata": {
    "collapsed": false,
    "ExecuteTime": {
     "end_time": "2023-08-09T18:48:48.670493Z",
     "start_time": "2023-08-09T18:48:48.659941Z"
    }
   },
   "id": "93d04d1fa9b9dfc0"
  },
  {
   "cell_type": "code",
   "execution_count": 4,
   "outputs": [],
   "source": [
    "def yaml_to_nx(yaml_file: Path):\n",
    "    with open(\"sample_flock.yaml\", \"r\") as f:\n",
    "        content = yaml.safe_load(f)\n",
    "    topo = nx.DiGraph()\n",
    "\n",
    "    # (1) Add the nodes with their attributes --- ignore children for now.\n",
    "    required_attrs: set[str] = {\n",
    "        \"kind\", \"globus_compute_endpoint\", \"proxystore_endpoint\", \"children\"\n",
    "    }\n",
    "    for node_idx, values in content.items():\n",
    "        for attr in required_attrs:\n",
    "            if attr not in values:\n",
    "                raise ValueError(f\"Node {node_idx} does not have required attribute: `{attr}`.\")\n",
    "\n",
    "        topo.add_node(\n",
    "            node_idx,\n",
    "            kind=FlockNodeKind.from_str(values[\"kind\"]),\n",
    "            globus_compute_endpoint=values[\"globus_compute_endpoint\"],\n",
    "            proxystore_endpoint=values[\"proxystore_endpoint\"]\n",
    "        )\n",
    "        for extra_attr in set(values) - required_attrs:\n",
    "            topo.nodes[node_idx][extra_attr] = values[extra_attr]\n",
    "\n",
    "    # (2) Add the edges from the children attribute.\n",
    "    for node_idx, values in content.items():\n",
    "        for child in values[\"children\"]:\n",
    "            topo.add_edge(node_idx, child)\n",
    "\n",
    "    return topo"
   ],
   "metadata": {
    "collapsed": false,
    "ExecuteTime": {
     "end_time": "2023-08-09T18:48:48.681485Z",
     "start_time": "2023-08-09T18:48:48.672348Z"
    }
   },
   "id": "bd18134461408a54"
  },
  {
   "cell_type": "code",
   "execution_count": 5,
   "outputs": [
    {
     "data": {
      "text/plain": "<Figure size 640x480 with 1 Axes>",
      "image/png": "[encoded data removed]"
     },
     "metadata": {},
     "output_type": "display_data"
    }
   ],
   "source": [
    "topo = yaml_to_nx(ex_yaml)\n",
    "pos = nx.nx_agraph.graphviz_layout(topo, prog=\"dot\")\n",
    "nx.draw(topo, pos)\n",
    "plt.show()"
   ],
   "metadata": {
    "collapsed": false,
    "ExecuteTime": {
     "end_time": "2023-08-09T18:48:48.932318Z",
     "start_time": "2023-08-09T18:48:48.680450Z"
    }
   },
   "id": "e1dd4d38b23965df"
  },
  {
   "cell_type": "code",
   "execution_count": 6,
   "outputs": [
    {
     "name": "stdout",
     "output_type": "stream",
     "text": [
      "[3, 4, 5]\n"
     ]
    }
   ],
   "source": [
    "print(list(topo.successors(1)))"
   ],
   "metadata": {
    "collapsed": false,
    "ExecuteTime": {
     "end_time": "2023-08-09T18:48:48.941835Z",
     "start_time": "2023-08-09T18:48:48.932666Z"
    }
   },
   "id": "425f300b4348d4c7"
  },
  {
   "cell_type": "code",
   "execution_count": 7,
   "outputs": [
    {
     "data": {
      "text/plain": "{'kind': <FlockNodeKind.WORKER: 3>,\n 'globus_compute_endpoint': None,\n 'proxystore_endpoint': None}"
     },
     "execution_count": 7,
     "metadata": {},
     "output_type": "execute_result"
    }
   ],
   "source": [
    "topo.nodes[5]"
   ],
   "metadata": {
    "collapsed": false,
    "ExecuteTime": {
     "end_time": "2023-08-09T18:48:48.942271Z",
     "start_time": "2023-08-09T18:48:48.936907Z"
    }
   },
   "id": "8a3aea7989e747f5"
  },
  {
   "cell_type": "code",
   "execution_count": 9,
   "outputs": [
    {
     "data": {
      "text/plain": "True"
     },
     "execution_count": 9,
     "metadata": {},
     "output_type": "execute_result"
    }
   ],
   "source": [
    "0 in topo.nodes"
   ],
   "metadata": {
    "collapsed": false,
    "ExecuteTime": {
     "end_time": "2023-08-09T18:49:01.956218Z",
     "start_time": "2023-08-09T18:49:01.931969Z"
    }
   },
   "id": "8297856cc7ac8fc1"
  },
  {
   "cell_type": "code",
   "execution_count": null,
   "outputs": [],
   "source": [],
   "metadata": {
    "collapsed": false
   },
   "id": "731fe61712bab716"
  }
 ],
 "metadata": {
  "kernelspec": {
   "display_name": "Python 3",
   "language": "python",
   "name": "python3"
  },
  "language_info": {
   "codemirror_mode": {
    "name": "ipython",
    "version": 2
   },
   "file_extension": ".py",
   "mimetype": "text/x-python",
   "name": "python",
   "nbconvert_exporter": "python",
   "pygments_lexer": "ipython2",
   "version": "2.7.6"
  }
 },
 "nbformat": 4,
 "nbformat_minor": 5
}
