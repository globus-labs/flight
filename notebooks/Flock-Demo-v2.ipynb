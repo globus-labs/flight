{
 "cells": [
  {
   "cell_type": "code",
   "execution_count": 1,
   "id": "initial_id",
   "metadata": {
    "collapsed": true,
    "ExecuteTime": {
     "end_time": "2023-08-09T20:21:56.947658Z",
     "start_time": "2023-08-09T20:21:54.794543Z"
    }
   },
   "outputs": [],
   "source": [
    "import os\n",
    "\n",
    "cwd = os.getcwd()\n",
    "\n",
    "try:\n",
    "    from flox.flock.flock import Flock\n",
    "except ImportError:\n",
    "    os.chdir(\"..\")\n",
    "\n",
    "import matplotlib.pyplot as plt\n",
    "import networkx as nx\n",
    "import seaborn as sns\n",
    "\n",
    "from pathlib import Path\n",
    "\n",
    "os.chdir(cwd)"
   ]
  },
  {
   "cell_type": "code",
   "execution_count": 2,
   "outputs": [
    {
     "name": "stdout",
     "output_type": "stream",
     "text": [
      "/Users/Nathaniel/Development/GitHub/FLoX/notebooks\n"
     ]
    },
    {
     "data": {
      "text/plain": "Flock(`../examples/flock_files/sample_flock.yaml`)"
     },
     "execution_count": 2,
     "metadata": {},
     "output_type": "execute_result"
    }
   ],
   "source": [
    "print(os.getcwd())\n",
    "path = Path(\"../examples/flock_files/sample_flock.yaml\")\n",
    "f = Flock.from_yaml(path)\n",
    "f"
   ],
   "metadata": {
    "collapsed": false,
    "ExecuteTime": {
     "end_time": "2023-08-09T20:21:56.960204Z",
     "start_time": "2023-08-09T20:21:56.948306Z"
    }
   },
   "id": "2c71dd33fc4b2b7c"
  },
  {
   "cell_type": "code",
   "execution_count": 3,
   "outputs": [
    {
     "data": {
      "text/plain": "<Figure size 640x480 with 1 Axes>",
      "image/png": "[encoded data removed]"
     },
     "metadata": {},
     "output_type": "display_data"
    }
   ],
   "source": [
    "pos = nx.nx_agraph.graphviz_layout(f.topo, prog=\"dot\")\n",
    "nx.draw(f.topo, pos, with_labels=True)\n",
    "plt.show()"
   ],
   "metadata": {
    "collapsed": false,
    "ExecuteTime": {
     "end_time": "2023-08-09T20:21:57.213108Z",
     "start_time": "2023-08-09T20:21:56.960457Z"
    }
   },
   "id": "1af38b05bed81846"
  },
  {
   "cell_type": "code",
   "execution_count": 8,
   "outputs": [
    {
     "name": "stdout",
     "output_type": "stream",
     "text": [
      "Ready for Globus Compute: False\n",
      "Ready for Proxystore:     False\n"
     ]
    }
   ],
   "source": [
    "print(f\"Ready for Globus Compute: {f.globus_compute_ready}\")\n",
    "print(f\"Ready for Proxystore:     {f.proxystore_ready}\")"
   ],
   "metadata": {
    "collapsed": false,
    "ExecuteTime": {
     "end_time": "2023-08-09T20:22:22.593465Z",
     "start_time": "2023-08-09T20:22:22.551526Z"
    }
   },
   "id": "e293b1b84f7633c"
  },
  {
   "cell_type": "code",
   "execution_count": 5,
   "outputs": [
    {
     "name": "stdout",
     "output_type": "stream",
     "text": [
      "FlockNodeKind.LEADER\n",
      "FlockNodeKind.AGGREGATOR\n",
      "FlockNodeKind.AGGREGATOR\n",
      "FlockNodeKind.WORKER\n",
      "FlockNodeKind.WORKER\n",
      "FlockNodeKind.WORKER\n",
      "FlockNodeKind.WORKER\n",
      "FlockNodeKind.WORKER\n",
      "FlockNodeKind.WORKER\n",
      "FlockNodeKind.WORKER\n"
     ]
    }
   ],
   "source": [
    "for node in f.topo.nodes:\n",
    "    print(f.topo.nodes[node][\"kind\"])"
   ],
   "metadata": {
    "collapsed": false,
    "ExecuteTime": {
     "end_time": "2023-08-09T20:21:57.217698Z",
     "start_time": "2023-08-09T20:21:57.215788Z"
    }
   },
   "id": "a07e0fec0981d63c"
  },
  {
   "cell_type": "code",
   "execution_count": 6,
   "outputs": [
    {
     "name": "stdout",
     "output_type": "stream",
     "text": [
      "(0, {'kind': <FlockNodeKind.LEADER: 1>, 'globus_compute_endpoint': None, 'proxystore_endpoint': None})\n",
      "(1, {'kind': <FlockNodeKind.AGGREGATOR: 2>, 'globus_compute_endpoint': None, 'proxystore_endpoint': None})\n",
      "(2, {'kind': <FlockNodeKind.AGGREGATOR: 2>, 'globus_compute_endpoint': None, 'proxystore_endpoint': None})\n",
      "(3, {'kind': <FlockNodeKind.WORKER: 3>, 'globus_compute_endpoint': None, 'proxystore_endpoint': None})\n",
      "(4, {'kind': <FlockNodeKind.WORKER: 3>, 'globus_compute_endpoint': None, 'proxystore_endpoint': None})\n",
      "(5, {'kind': <FlockNodeKind.WORKER: 3>, 'globus_compute_endpoint': None, 'proxystore_endpoint': None})\n",
      "(6, {'kind': <FlockNodeKind.WORKER: 3>, 'globus_compute_endpoint': None, 'proxystore_endpoint': None})\n",
      "(7, {'kind': <FlockNodeKind.WORKER: 3>, 'globus_compute_endpoint': None, 'proxystore_endpoint': None})\n",
      "(8, {'kind': <FlockNodeKind.WORKER: 3>, 'globus_compute_endpoint': None, 'proxystore_endpoint': None})\n",
      "(9, {'kind': <FlockNodeKind.WORKER: 3>, 'globus_compute_endpoint': None, 'proxystore_endpoint': None})\n"
     ]
    }
   ],
   "source": [
    "for node in f.topo.nodes(data=True):\n",
    "    print(node)"
   ],
   "metadata": {
    "collapsed": false,
    "ExecuteTime": {
     "end_time": "2023-08-09T20:21:57.221860Z",
     "start_time": "2023-08-09T20:21:57.219575Z"
    }
   },
   "id": "1063b71bedc57e02"
  },
  {
   "cell_type": "code",
   "execution_count": 7,
   "outputs": [
    {
     "ename": "KeyError",
     "evalue": "'0'",
     "output_type": "error",
     "traceback": [
      "\u001B[0;31m---------------------------------------------------------------------------\u001B[0m",
      "\u001B[0;31mKeyError\u001B[0m                                  Traceback (most recent call last)",
      "Cell \u001B[0;32mIn[7], line 1\u001B[0m\n\u001B[0;32m----> 1\u001B[0m \u001B[43mf\u001B[49m\u001B[38;5;241;43m.\u001B[39;49m\u001B[43mtopo\u001B[49m\u001B[38;5;241;43m.\u001B[39;49m\u001B[43mnodes\u001B[49m\u001B[43m[\u001B[49m\u001B[38;5;124;43m'\u001B[39;49m\u001B[38;5;124;43m0\u001B[39;49m\u001B[38;5;124;43m'\u001B[39;49m\u001B[43m]\u001B[49m[\u001B[38;5;124m\"\u001B[39m\u001B[38;5;124mkind\u001B[39m\u001B[38;5;124m\"\u001B[39m]\n",
      "File \u001B[0;32m/opt/anaconda3/envs/FLoX/lib/python3.10/site-packages/networkx/classes/reportviews.py:194\u001B[0m, in \u001B[0;36mNodeView.__getitem__\u001B[0;34m(self, n)\u001B[0m\n\u001B[1;32m    189\u001B[0m \u001B[38;5;28;01mif\u001B[39;00m \u001B[38;5;28misinstance\u001B[39m(n, \u001B[38;5;28mslice\u001B[39m):\n\u001B[1;32m    190\u001B[0m     \u001B[38;5;28;01mraise\u001B[39;00m nx\u001B[38;5;241m.\u001B[39mNetworkXError(\n\u001B[1;32m    191\u001B[0m         \u001B[38;5;124mf\u001B[39m\u001B[38;5;124m\"\u001B[39m\u001B[38;5;132;01m{\u001B[39;00m\u001B[38;5;28mtype\u001B[39m(\u001B[38;5;28mself\u001B[39m)\u001B[38;5;241m.\u001B[39m\u001B[38;5;18m__name__\u001B[39m\u001B[38;5;132;01m}\u001B[39;00m\u001B[38;5;124m does not support slicing, \u001B[39m\u001B[38;5;124m\"\u001B[39m\n\u001B[1;32m    192\u001B[0m         \u001B[38;5;124mf\u001B[39m\u001B[38;5;124m\"\u001B[39m\u001B[38;5;124mtry list(G.nodes)[\u001B[39m\u001B[38;5;132;01m{\u001B[39;00mn\u001B[38;5;241m.\u001B[39mstart\u001B[38;5;132;01m}\u001B[39;00m\u001B[38;5;124m:\u001B[39m\u001B[38;5;132;01m{\u001B[39;00mn\u001B[38;5;241m.\u001B[39mstop\u001B[38;5;132;01m}\u001B[39;00m\u001B[38;5;124m:\u001B[39m\u001B[38;5;132;01m{\u001B[39;00mn\u001B[38;5;241m.\u001B[39mstep\u001B[38;5;132;01m}\u001B[39;00m\u001B[38;5;124m]\u001B[39m\u001B[38;5;124m\"\u001B[39m\n\u001B[1;32m    193\u001B[0m     )\n\u001B[0;32m--> 194\u001B[0m \u001B[38;5;28;01mreturn\u001B[39;00m \u001B[38;5;28;43mself\u001B[39;49m\u001B[38;5;241;43m.\u001B[39;49m\u001B[43m_nodes\u001B[49m\u001B[43m[\u001B[49m\u001B[43mn\u001B[49m\u001B[43m]\u001B[49m\n",
      "\u001B[0;31mKeyError\u001B[0m: '0'"
     ]
    }
   ],
   "source": [
    "f.topo.nodes['0'][\"kind\"]"
   ],
   "metadata": {
    "collapsed": false,
    "ExecuteTime": {
     "end_time": "2023-08-09T20:21:57.874746Z",
     "start_time": "2023-08-09T20:21:57.221948Z"
    }
   },
   "id": "91e9d66f2c89678"
  },
  {
   "cell_type": "code",
   "execution_count": 10,
   "outputs": [
    {
     "data": {
      "text/plain": "Flock(`interactive`)"
     },
     "execution_count": 10,
     "metadata": {},
     "output_type": "execute_result"
    }
   ],
   "source": [
    "my_flock = Flock()\n",
    "my_flock"
   ],
   "metadata": {
    "collapsed": false,
    "ExecuteTime": {
     "end_time": "2023-08-09T20:23:06.637811Z",
     "start_time": "2023-08-09T20:23:06.610189Z"
    }
   },
   "id": "3e192c688726c37a"
  },
  {
   "cell_type": "code",
   "execution_count": null,
   "outputs": [],
   "source": [],
   "metadata": {
    "collapsed": false
   },
   "id": "980cab1f14330683"
  }
 ],
 "metadata": {
  "kernelspec": {
   "display_name": "Python 3",
   "language": "python",
   "name": "python3"
  },
  "language_info": {
   "codemirror_mode": {
    "name": "ipython",
    "version": 2
   },
   "file_extension": ".py",
   "mimetype": "text/x-python",
   "name": "python",
   "nbconvert_exporter": "python",
   "pygments_lexer": "ipython2",
   "version": "2.7.6"
  }
 },
 "nbformat": 4,
 "nbformat_minor": 5
}
